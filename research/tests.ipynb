{
 "cells": [
  {
   "cell_type": "code",
   "id": "7bdef0d441e4cc72",
   "metadata": {
    "collapsed": true,
    "ExecuteTime": {
     "end_time": "2025-01-03T08:29:02.560523Z",
     "start_time": "2025-01-03T08:28:56.088366Z"
    }
   },
   "source": [
    "!pip install pydantic-ai ollama python-dotenv\n",
    "!pip install nest_asyncio"
   ],
   "outputs": [
    {
     "name": "stdout",
     "output_type": "stream",
     "text": [
      "Requirement already satisfied: pydantic-ai in c:\\users\\elima\\miniconda3\\lib\\site-packages (0.0.16)\n",
      "Requirement already satisfied: ollama in c:\\users\\elima\\miniconda3\\lib\\site-packages (0.4.5)\n",
      "Requirement already satisfied: python-dotenv in c:\\users\\elima\\miniconda3\\lib\\site-packages (1.0.1)\n",
      "Requirement already satisfied: pydantic-ai-slim==0.0.16 in c:\\users\\elima\\miniconda3\\lib\\site-packages (from pydantic-ai-slim[anthropic,groq,mistral,openai,vertexai]==0.0.16->pydantic-ai) (0.0.16)\n",
      "Requirement already satisfied: eval-type-backport>=0.2.0 in c:\\users\\elima\\miniconda3\\lib\\site-packages (from pydantic-ai-slim==0.0.16->pydantic-ai-slim[anthropic,groq,mistral,openai,vertexai]==0.0.16->pydantic-ai) (0.2.2)\n",
      "Requirement already satisfied: griffe>=1.3.2 in c:\\users\\elima\\miniconda3\\lib\\site-packages (from pydantic-ai-slim==0.0.16->pydantic-ai-slim[anthropic,groq,mistral,openai,vertexai]==0.0.16->pydantic-ai) (1.5.4)\n",
      "Requirement already satisfied: httpx>=0.27.2 in c:\\users\\elima\\miniconda3\\lib\\site-packages (from pydantic-ai-slim==0.0.16->pydantic-ai-slim[anthropic,groq,mistral,openai,vertexai]==0.0.16->pydantic-ai) (0.27.2)\n",
      "Requirement already satisfied: logfire-api>=1.2.0 in c:\\users\\elima\\miniconda3\\lib\\site-packages (from pydantic-ai-slim==0.0.16->pydantic-ai-slim[anthropic,groq,mistral,openai,vertexai]==0.0.16->pydantic-ai) (2.11.1)\n",
      "Requirement already satisfied: pydantic>=2.10 in c:\\users\\elima\\miniconda3\\lib\\site-packages (from pydantic-ai-slim==0.0.16->pydantic-ai-slim[anthropic,groq,mistral,openai,vertexai]==0.0.16->pydantic-ai) (2.10.4)\n",
      "Requirement already satisfied: anthropic>=0.40.0 in c:\\users\\elima\\miniconda3\\lib\\site-packages (from pydantic-ai-slim[anthropic,groq,mistral,openai,vertexai]==0.0.16->pydantic-ai) (0.42.0)\n",
      "Requirement already satisfied: groq>=0.12.0 in c:\\users\\elima\\miniconda3\\lib\\site-packages (from pydantic-ai-slim[anthropic,groq,mistral,openai,vertexai]==0.0.16->pydantic-ai) (0.13.1)\n",
      "Requirement already satisfied: mistralai>=1.2.5 in c:\\users\\elima\\miniconda3\\lib\\site-packages (from pydantic-ai-slim[anthropic,groq,mistral,openai,vertexai]==0.0.16->pydantic-ai) (1.2.5)\n",
      "Requirement already satisfied: openai>=1.54.3 in c:\\users\\elima\\miniconda3\\lib\\site-packages (from pydantic-ai-slim[anthropic,groq,mistral,openai,vertexai]==0.0.16->pydantic-ai) (1.58.1)\n",
      "Requirement already satisfied: google-auth>=2.36.0 in c:\\users\\elima\\miniconda3\\lib\\site-packages (from pydantic-ai-slim[anthropic,groq,mistral,openai,vertexai]==0.0.16->pydantic-ai) (2.37.0)\n",
      "Requirement already satisfied: requests>=2.32.3 in c:\\users\\elima\\miniconda3\\lib\\site-packages (from pydantic-ai-slim[anthropic,groq,mistral,openai,vertexai]==0.0.16->pydantic-ai) (2.32.3)\n",
      "Requirement already satisfied: anyio in c:\\users\\elima\\miniconda3\\lib\\site-packages (from httpx>=0.27.2->pydantic-ai-slim==0.0.16->pydantic-ai-slim[anthropic,groq,mistral,openai,vertexai]==0.0.16->pydantic-ai) (4.2.0)\n",
      "Requirement already satisfied: certifi in c:\\users\\elima\\miniconda3\\lib\\site-packages (from httpx>=0.27.2->pydantic-ai-slim==0.0.16->pydantic-ai-slim[anthropic,groq,mistral,openai,vertexai]==0.0.16->pydantic-ai) (2024.7.4)\n",
      "Requirement already satisfied: httpcore==1.* in c:\\users\\elima\\miniconda3\\lib\\site-packages (from httpx>=0.27.2->pydantic-ai-slim==0.0.16->pydantic-ai-slim[anthropic,groq,mistral,openai,vertexai]==0.0.16->pydantic-ai) (1.0.7)\n",
      "Requirement already satisfied: idna in c:\\users\\elima\\miniconda3\\lib\\site-packages (from httpx>=0.27.2->pydantic-ai-slim==0.0.16->pydantic-ai-slim[anthropic,groq,mistral,openai,vertexai]==0.0.16->pydantic-ai) (3.4)\n",
      "Requirement already satisfied: sniffio in c:\\users\\elima\\miniconda3\\lib\\site-packages (from httpx>=0.27.2->pydantic-ai-slim==0.0.16->pydantic-ai-slim[anthropic,groq,mistral,openai,vertexai]==0.0.16->pydantic-ai) (1.3.0)\n",
      "Requirement already satisfied: h11<0.15,>=0.13 in c:\\users\\elima\\miniconda3\\lib\\site-packages (from httpcore==1.*->httpx>=0.27.2->pydantic-ai-slim==0.0.16->pydantic-ai-slim[anthropic,groq,mistral,openai,vertexai]==0.0.16->pydantic-ai) (0.14.0)\n",
      "Requirement already satisfied: annotated-types>=0.6.0 in c:\\users\\elima\\miniconda3\\lib\\site-packages (from pydantic>=2.10->pydantic-ai-slim==0.0.16->pydantic-ai-slim[anthropic,groq,mistral,openai,vertexai]==0.0.16->pydantic-ai) (0.7.0)\n",
      "Requirement already satisfied: pydantic-core==2.27.2 in c:\\users\\elima\\miniconda3\\lib\\site-packages (from pydantic>=2.10->pydantic-ai-slim==0.0.16->pydantic-ai-slim[anthropic,groq,mistral,openai,vertexai]==0.0.16->pydantic-ai) (2.27.2)\n",
      "Requirement already satisfied: typing-extensions>=4.12.2 in c:\\users\\elima\\miniconda3\\lib\\site-packages (from pydantic>=2.10->pydantic-ai-slim==0.0.16->pydantic-ai-slim[anthropic,groq,mistral,openai,vertexai]==0.0.16->pydantic-ai) (4.12.2)\n",
      "Requirement already satisfied: distro<2,>=1.7.0 in c:\\users\\elima\\miniconda3\\lib\\site-packages (from anthropic>=0.40.0->pydantic-ai-slim[anthropic,groq,mistral,openai,vertexai]==0.0.16->pydantic-ai) (1.8.0)\n",
      "Requirement already satisfied: jiter<1,>=0.4.0 in c:\\users\\elima\\miniconda3\\lib\\site-packages (from anthropic>=0.40.0->pydantic-ai-slim[anthropic,groq,mistral,openai,vertexai]==0.0.16->pydantic-ai) (0.8.2)\n",
      "Requirement already satisfied: cachetools<6.0,>=2.0.0 in c:\\users\\elima\\miniconda3\\lib\\site-packages (from google-auth>=2.36.0->pydantic-ai-slim[anthropic,groq,mistral,openai,vertexai]==0.0.16->pydantic-ai) (5.5.0)\n",
      "Requirement already satisfied: pyasn1-modules>=0.2.1 in c:\\users\\elima\\miniconda3\\lib\\site-packages (from google-auth>=2.36.0->pydantic-ai-slim[anthropic,groq,mistral,openai,vertexai]==0.0.16->pydantic-ai) (0.4.1)\n",
      "Requirement already satisfied: rsa<5,>=3.1.4 in c:\\users\\elima\\miniconda3\\lib\\site-packages (from google-auth>=2.36.0->pydantic-ai-slim[anthropic,groq,mistral,openai,vertexai]==0.0.16->pydantic-ai) (4.9)\n",
      "Requirement already satisfied: colorama>=0.4 in c:\\users\\elima\\miniconda3\\lib\\site-packages (from griffe>=1.3.2->pydantic-ai-slim==0.0.16->pydantic-ai-slim[anthropic,groq,mistral,openai,vertexai]==0.0.16->pydantic-ai) (0.4.6)\n",
      "Requirement already satisfied: jsonpath-python<2.0.0,>=1.0.6 in c:\\users\\elima\\miniconda3\\lib\\site-packages (from mistralai>=1.2.5->pydantic-ai-slim[anthropic,groq,mistral,openai,vertexai]==0.0.16->pydantic-ai) (1.0.6)\n",
      "Requirement already satisfied: python-dateutil<3.0.0,>=2.8.2 in c:\\users\\elima\\miniconda3\\lib\\site-packages (from mistralai>=1.2.5->pydantic-ai-slim[anthropic,groq,mistral,openai,vertexai]==0.0.16->pydantic-ai) (2.9.0.post0)\n",
      "Requirement already satisfied: typing-inspect<0.10.0,>=0.9.0 in c:\\users\\elima\\miniconda3\\lib\\site-packages (from mistralai>=1.2.5->pydantic-ai-slim[anthropic,groq,mistral,openai,vertexai]==0.0.16->pydantic-ai) (0.9.0)\n",
      "Requirement already satisfied: tqdm>4 in c:\\users\\elima\\miniconda3\\lib\\site-packages (from openai>=1.54.3->pydantic-ai-slim[anthropic,groq,mistral,openai,vertexai]==0.0.16->pydantic-ai) (4.65.0)\n",
      "Requirement already satisfied: charset-normalizer<4,>=2 in c:\\users\\elima\\miniconda3\\lib\\site-packages (from requests>=2.32.3->pydantic-ai-slim[anthropic,groq,mistral,openai,vertexai]==0.0.16->pydantic-ai) (2.0.4)\n",
      "Requirement already satisfied: urllib3<3,>=1.21.1 in c:\\users\\elima\\miniconda3\\lib\\site-packages (from requests>=2.32.3->pydantic-ai-slim[anthropic,groq,mistral,openai,vertexai]==0.0.16->pydantic-ai) (2.3.0)\n",
      "Requirement already satisfied: pyasn1<0.7.0,>=0.4.6 in c:\\users\\elima\\miniconda3\\lib\\site-packages (from pyasn1-modules>=0.2.1->google-auth>=2.36.0->pydantic-ai-slim[anthropic,groq,mistral,openai,vertexai]==0.0.16->pydantic-ai) (0.6.1)\n",
      "Requirement already satisfied: six>=1.5 in c:\\users\\elima\\miniconda3\\lib\\site-packages (from python-dateutil<3.0.0,>=2.8.2->mistralai>=1.2.5->pydantic-ai-slim[anthropic,groq,mistral,openai,vertexai]==0.0.16->pydantic-ai) (1.16.0)\n",
      "Requirement already satisfied: mypy-extensions>=0.3.0 in c:\\users\\elima\\miniconda3\\lib\\site-packages (from typing-inspect<0.10.0,>=0.9.0->mistralai>=1.2.5->pydantic-ai-slim[anthropic,groq,mistral,openai,vertexai]==0.0.16->pydantic-ai) (1.0.0)\n",
      "Requirement already satisfied: nest_asyncio in c:\\users\\elima\\miniconda3\\lib\\site-packages (1.6.0)\n"
     ]
    }
   ],
   "execution_count": 3
  },
  {
   "metadata": {
    "ExecuteTime": {
     "end_time": "2025-01-03T08:33:51.109777Z",
     "start_time": "2025-01-03T08:33:37.539259Z"
    }
   },
   "cell_type": "code",
   "source": [
    "import nest_asyncio\n",
    "from pydantic_ai import Agent\n",
    "from pydantic_ai.models.ollama import OllamaModel\n",
    "from dotenv import load_dotenv\n",
    "import os\n",
    "\n",
    "nest_asyncio.apply()\n",
    "# Charger les variables d'environnement à partir du fichier .env\n",
    "load_dotenv()\n",
    "# api_key = os.getenv(\"OPENAI_API_KEY\")\n",
    "\n",
    "model = OllamaModel(\n",
    "    model_name=\"llama2:7b\",\n",
    "    base_url=\"http://localhost:11434/v1\",\n",
    ")\n",
    "\n",
    "agent = Agent(model=model)\n",
    "result = agent.run_sync(\"what is a fish? (1 line)\")\n",
    "print(result.data)\n",
    "\n"
   ],
   "id": "initial_id",
   "outputs": [
    {
     "name": "stdout",
     "output_type": "stream",
     "text": [
      " A fish is a cold-blooded, aquatic animal with fins, scales, and a tail, that breathes through gills and lives in water.\n"
     ]
    }
   ],
   "execution_count": 5
  },
  {
   "metadata": {},
   "cell_type": "code",
   "source": "",
   "id": "f173d545b91593cc",
   "outputs": [],
   "execution_count": null
  },
  {
   "metadata": {},
   "cell_type": "code",
   "outputs": [],
   "execution_count": null,
   "source": "",
   "id": "7b1f17f534e81a99"
  }
 ],
 "metadata": {
  "kernelspec": {
   "display_name": "Python 3",
   "language": "python",
   "name": "python3"
  },
  "language_info": {
   "codemirror_mode": {
    "name": "ipython",
    "version": 2
   },
   "file_extension": ".py",
   "mimetype": "text/x-python",
   "name": "python",
   "nbconvert_exporter": "python",
   "pygments_lexer": "ipython2",
   "version": "2.7.6"
  }
 },
 "nbformat": 4,
 "nbformat_minor": 5
}
